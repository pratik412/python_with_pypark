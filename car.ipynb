{
 "cells": [
  {
   "cell_type": "code",
   "execution_count": 88,
   "id": "1f7eb019",
   "metadata": {},
   "outputs": [
    {
     "name": "stdout",
     "output_type": "stream",
     "text": [
      "+-----+\n",
      "|hello|\n",
      "+-----+\n",
      "|spark|\n",
      "+-----+\n",
      "\n"
     ]
    }
   ],
   "source": [
    "import findspark\n",
    "findspark.init()\n",
    "\n",
    "import pyspark # only run after findspark.init()\n",
    "from pyspark.sql import SparkSession\n",
    "spark = SparkSession.builder.getOrCreate()\n",
    "\n",
    "df = spark.sql('''select 'spark' as hello ''')\n",
    "df.show()"
   ]
  },
  {
   "cell_type": "code",
   "execution_count": 10,
   "id": "c37595c0",
   "metadata": {},
   "outputs": [],
   "source": [
    "from pyspark.sql import SparkSession\n",
    "spark=SparkSession.builder.appName('Missing').getOrCreate()"
   ]
  },
  {
   "cell_type": "code",
   "execution_count": 89,
   "id": "c1150575",
   "metadata": {},
   "outputs": [],
   "source": [
    "from pyspark import SparkContext\n",
    "from pyspark.sql import SQLContext\n",
    "from pyspark.ml.classification import DecisionTreeClassifier\n",
    "from pyspark.ml.evaluation import MulticlassClassificationEvaluator\n",
    "from pyspark.ml.feature import VectorAssembler\n",
    "from sklearn.metrics import confusion_matrix\n",
    "import pandas as pd \n",
    "import numpy as np "
   ]
  },
  {
   "cell_type": "code",
   "execution_count": 90,
   "id": "ba45c6b1",
   "metadata": {},
   "outputs": [],
   "source": [
    "training=spark.read.csv('car.csv',header=True,inferSchema=True)"
   ]
  },
  {
   "cell_type": "code",
   "execution_count": 126,
   "id": "7253031a",
   "metadata": {
    "scrolled": true
   },
   "outputs": [
    {
     "name": "stdout",
     "output_type": "stream",
     "text": [
      "+-----------+---------+----------+------------+-----------+------------+---------------+----------+------+-----+------+-----------+-----------+----------------+-----------+-----------+----+------+-----------------+----------+--------+--------+-----------+-----+\n",
      "|       make|fuel-type|aspiration|num-of-doors| body-style|drive-wheels|engine-location|wheel-base|length|width|height|curb-weight|engine-type|num-of-cylinders|engine-size|fuel-system|bore|stroke|compression-ratio|horsepower|peak-rpm|city-mpg|highway-mpg|price|\n",
      "+-----------+---------+----------+------------+-----------+------------+---------------+----------+------+-----+------+-----------+-----------+----------------+-----------+-----------+----+------+-----------------+----------+--------+--------+-----------+-----+\n",
      "|alfa-romero|      gas|       std|         two|convertible|         rwd|          front|      88.6| 168.8| 64.1|  48.8|       2548|       dohc|            four|        130|       mpfi|3.47|  2.68|              9.0|       111|    5000|      21|         27|13495|\n",
      "|alfa-romero|      gas|       std|         two|convertible|         rwd|          front|      88.6| 168.8| 64.1|  48.8|       2548|       dohc|            four|        130|       mpfi|3.47|  2.68|              9.0|       111|    5000|      21|         27|16500|\n",
      "|alfa-romero|      gas|       std|         two|  hatchback|         rwd|          front|      94.5| 171.2| 65.5|  52.4|       2823|       ohcv|             six|        152|       mpfi|2.68|  3.47|              9.0|       154|    5000|      19|         26|16500|\n",
      "|       audi|      gas|       std|        four|      sedan|         fwd|          front|      99.8| 176.6| 66.2|  54.3|       2337|        ohc|            four|        109|       mpfi|3.19|   3.4|             10.0|       102|    5500|      24|         30|13950|\n",
      "|       audi|      gas|       std|        four|      sedan|         4wd|          front|      99.4| 176.6| 66.4|  54.3|       2824|        ohc|            five|        136|       mpfi|3.19|   3.4|              8.0|       115|    5500|      18|         22|17450|\n",
      "|       audi|      gas|       std|         two|      sedan|         fwd|          front|      99.8| 177.3| 66.3|  53.1|       2507|        ohc|            five|        136|       mpfi|3.19|   3.4|              8.5|       110|    5500|      19|         25|15250|\n",
      "|       audi|      gas|       std|        four|      sedan|         fwd|          front|     105.8| 192.7| 71.4|  55.7|       2844|        ohc|            five|        136|       mpfi|3.19|   3.4|              8.5|       110|    5500|      19|         25|17710|\n",
      "|       audi|      gas|       std|        four|      wagon|         fwd|          front|     105.8| 192.7| 71.4|  55.7|       2954|        ohc|            five|        136|       mpfi|3.19|   3.4|              8.5|       110|    5500|      19|         25|18920|\n",
      "|       audi|      gas|     turbo|        four|      sedan|         fwd|          front|     105.8| 192.7| 71.4|  55.9|       3086|        ohc|            five|        131|       mpfi|3.13|   3.4|              8.3|       140|    5500|      17|         20|23875|\n",
      "|       audi|      gas|     turbo|         two|  hatchback|         4wd|          front|      99.5| 178.2| 67.9|  52.0|       3053|        ohc|            five|        131|       mpfi|3.13|   3.4|              7.0|       160|    5500|      16|         22|    0|\n",
      "|        bmw|      gas|       std|         two|      sedan|         rwd|          front|     101.2| 176.8| 64.8|  54.3|       2395|        ohc|            four|        108|       mpfi| 3.5|   2.8|              8.8|       101|    5800|      23|         29|16430|\n",
      "|        bmw|      gas|       std|        four|      sedan|         rwd|          front|     101.2| 176.8| 64.8|  54.3|       2395|        ohc|            four|        108|       mpfi| 3.5|   2.8|              8.8|       101|    5800|      23|         29|16925|\n",
      "|        bmw|      gas|       std|         two|      sedan|         rwd|          front|     101.2| 176.8| 64.8|  54.3|       2710|        ohc|             six|        164|       mpfi|3.31|  3.19|              9.0|       121|    4250|      21|         28|20970|\n",
      "|        bmw|      gas|       std|        four|      sedan|         rwd|          front|     101.2| 176.8| 64.8|  54.3|       2765|        ohc|             six|        164|       mpfi|3.31|  3.19|              9.0|       121|    4250|      21|         28|21105|\n",
      "|        bmw|      gas|       std|        four|      sedan|         rwd|          front|     103.5| 189.0| 66.9|  55.7|       3055|        ohc|             six|        164|       mpfi|3.31|  3.19|              9.0|       121|    4250|      20|         25|24565|\n",
      "|        bmw|      gas|       std|        four|      sedan|         rwd|          front|     103.5| 189.0| 66.9|  55.7|       3230|        ohc|             six|        209|       mpfi|3.62|  3.39|              8.0|       182|    5400|      16|         22|30760|\n",
      "|        bmw|      gas|       std|         two|      sedan|         rwd|          front|     103.5| 193.8| 67.9|  53.7|       3380|        ohc|             six|        209|       mpfi|3.62|  3.39|              8.0|       182|    5400|      16|         22|41315|\n",
      "|        bmw|      gas|       std|        four|      sedan|         rwd|          front|     110.0| 197.0| 70.9|  56.3|       3505|        ohc|             six|        209|       mpfi|3.62|  3.39|              8.0|       182|    5400|      15|         20|36880|\n",
      "|  chevrolet|      gas|       std|         two|  hatchback|         fwd|          front|      88.4| 141.1| 60.3|  53.2|       1488|          l|           three|         61|       2bbl|2.91|  3.03|              9.5|        48|    5100|      47|         53| 5151|\n",
      "|  chevrolet|      gas|       std|         two|  hatchback|         fwd|          front|      94.5| 155.9| 63.6|  52.0|       1874|        ohc|            four|         90|       2bbl|3.03|  3.11|              9.6|        70|    5400|      38|         43| 6295|\n",
      "+-----------+---------+----------+------------+-----------+------------+---------------+----------+------+-----+------+-----------+-----------+----------------+-----------+-----------+----+------+-----------------+----------+--------+--------+-----------+-----+\n",
      "only showing top 20 rows\n",
      "\n"
     ]
    }
   ],
   "source": [
    "training.show()"
   ]
  },
  {
   "cell_type": "code",
   "execution_count": 92,
   "id": "2accc5ae",
   "metadata": {},
   "outputs": [
    {
     "name": "stdout",
     "output_type": "stream",
     "text": [
      "root\n",
      " |-- make: string (nullable = true)\n",
      " |-- fuel-type: string (nullable = true)\n",
      " |-- aspiration: string (nullable = true)\n",
      " |-- num-of-doors: string (nullable = true)\n",
      " |-- body-style: string (nullable = true)\n",
      " |-- drive-wheels: string (nullable = true)\n",
      " |-- engine-location: string (nullable = true)\n",
      " |-- wheel-base: double (nullable = true)\n",
      " |-- length: double (nullable = true)\n",
      " |-- width: double (nullable = true)\n",
      " |-- height: double (nullable = true)\n",
      " |-- curb-weight: integer (nullable = true)\n",
      " |-- engine-type: string (nullable = true)\n",
      " |-- num-of-cylinders: string (nullable = true)\n",
      " |-- engine-size: integer (nullable = true)\n",
      " |-- fuel-system: string (nullable = true)\n",
      " |-- bore: string (nullable = true)\n",
      " |-- stroke: string (nullable = true)\n",
      " |-- compression-ratio: double (nullable = true)\n",
      " |-- horsepower: string (nullable = true)\n",
      " |-- peak-rpm: string (nullable = true)\n",
      " |-- city-mpg: integer (nullable = true)\n",
      " |-- highway-mpg: integer (nullable = true)\n",
      " |-- price: string (nullable = true)\n",
      "\n"
     ]
    }
   ],
   "source": [
    "training.printSchema()"
   ]
  },
  {
   "cell_type": "code",
   "execution_count": 93,
   "id": "660ac6ff",
   "metadata": {},
   "outputs": [
    {
     "data": {
      "text/plain": [
       "['make',\n",
       " 'fuel-type',\n",
       " 'aspiration',\n",
       " 'num-of-doors',\n",
       " 'body-style',\n",
       " 'drive-wheels',\n",
       " 'engine-location',\n",
       " 'wheel-base',\n",
       " 'length',\n",
       " 'width',\n",
       " 'height',\n",
       " 'curb-weight',\n",
       " 'engine-type',\n",
       " 'num-of-cylinders',\n",
       " 'engine-size',\n",
       " 'fuel-system',\n",
       " 'bore',\n",
       " 'stroke',\n",
       " 'compression-ratio',\n",
       " 'horsepower',\n",
       " 'peak-rpm',\n",
       " 'city-mpg',\n",
       " 'highway-mpg',\n",
       " 'price']"
      ]
     },
     "execution_count": 93,
     "metadata": {},
     "output_type": "execute_result"
    }
   ],
   "source": [
    "training.columns"
   ]
  },
  {
   "cell_type": "code",
   "execution_count": 94,
   "id": "d9818c08",
   "metadata": {},
   "outputs": [],
   "source": [
    "##converting tring into integer.\n",
    "from pyspark.sql.types import IntegerType\n",
    "training = training.withColumn(\"horsepower\", training[\"horsepower\"].cast(IntegerType()))\n",
    "training = training.withColumn(\"price\", training[\"price\"].cast(IntegerType()))"
   ]
  },
  {
   "cell_type": "code",
   "execution_count": 95,
   "id": "cc7c4f82",
   "metadata": {},
   "outputs": [
    {
     "name": "stdout",
     "output_type": "stream",
     "text": [
      "root\n",
      " |-- make: string (nullable = true)\n",
      " |-- fuel-type: string (nullable = true)\n",
      " |-- aspiration: string (nullable = true)\n",
      " |-- num-of-doors: string (nullable = true)\n",
      " |-- body-style: string (nullable = true)\n",
      " |-- drive-wheels: string (nullable = true)\n",
      " |-- engine-location: string (nullable = true)\n",
      " |-- wheel-base: double (nullable = true)\n",
      " |-- length: double (nullable = true)\n",
      " |-- width: double (nullable = true)\n",
      " |-- height: double (nullable = true)\n",
      " |-- curb-weight: integer (nullable = true)\n",
      " |-- engine-type: string (nullable = true)\n",
      " |-- num-of-cylinders: string (nullable = true)\n",
      " |-- engine-size: integer (nullable = true)\n",
      " |-- fuel-system: string (nullable = true)\n",
      " |-- bore: string (nullable = true)\n",
      " |-- stroke: string (nullable = true)\n",
      " |-- compression-ratio: double (nullable = true)\n",
      " |-- horsepower: integer (nullable = true)\n",
      " |-- peak-rpm: string (nullable = true)\n",
      " |-- city-mpg: integer (nullable = true)\n",
      " |-- highway-mpg: integer (nullable = true)\n",
      " |-- price: integer (nullable = true)\n",
      "\n"
     ]
    }
   ],
   "source": [
    "training.printSchema()"
   ]
  },
  {
   "cell_type": "code",
   "execution_count": 96,
   "id": "22d1f72f",
   "metadata": {},
   "outputs": [],
   "source": [
    "##Looking for null value if any\n",
    "training=training.na.fill(0)\n"
   ]
  },
  {
   "cell_type": "code",
   "execution_count": 97,
   "id": "d2e32985",
   "metadata": {},
   "outputs": [
    {
     "name": "stdout",
     "output_type": "stream",
     "text": [
      "+-----------+---------+----------+------------+-----------+------------+---------------+----------+------+-----+------+-----------+-----------+----------------+-----------+-----------+----+------+-----------------+----------+--------+--------+-----------+-----+\n",
      "|       make|fuel-type|aspiration|num-of-doors| body-style|drive-wheels|engine-location|wheel-base|length|width|height|curb-weight|engine-type|num-of-cylinders|engine-size|fuel-system|bore|stroke|compression-ratio|horsepower|peak-rpm|city-mpg|highway-mpg|price|\n",
      "+-----------+---------+----------+------------+-----------+------------+---------------+----------+------+-----+------+-----------+-----------+----------------+-----------+-----------+----+------+-----------------+----------+--------+--------+-----------+-----+\n",
      "|alfa-romero|      gas|       std|         two|convertible|         rwd|          front|      88.6| 168.8| 64.1|  48.8|       2548|       dohc|            four|        130|       mpfi|3.47|  2.68|              9.0|       111|    5000|      21|         27|13495|\n",
      "|alfa-romero|      gas|       std|         two|convertible|         rwd|          front|      88.6| 168.8| 64.1|  48.8|       2548|       dohc|            four|        130|       mpfi|3.47|  2.68|              9.0|       111|    5000|      21|         27|16500|\n",
      "|alfa-romero|      gas|       std|         two|  hatchback|         rwd|          front|      94.5| 171.2| 65.5|  52.4|       2823|       ohcv|             six|        152|       mpfi|2.68|  3.47|              9.0|       154|    5000|      19|         26|16500|\n",
      "|       audi|      gas|       std|        four|      sedan|         fwd|          front|      99.8| 176.6| 66.2|  54.3|       2337|        ohc|            four|        109|       mpfi|3.19|   3.4|             10.0|       102|    5500|      24|         30|13950|\n",
      "|       audi|      gas|       std|        four|      sedan|         4wd|          front|      99.4| 176.6| 66.4|  54.3|       2824|        ohc|            five|        136|       mpfi|3.19|   3.4|              8.0|       115|    5500|      18|         22|17450|\n",
      "|       audi|      gas|       std|         two|      sedan|         fwd|          front|      99.8| 177.3| 66.3|  53.1|       2507|        ohc|            five|        136|       mpfi|3.19|   3.4|              8.5|       110|    5500|      19|         25|15250|\n",
      "|       audi|      gas|       std|        four|      sedan|         fwd|          front|     105.8| 192.7| 71.4|  55.7|       2844|        ohc|            five|        136|       mpfi|3.19|   3.4|              8.5|       110|    5500|      19|         25|17710|\n",
      "|       audi|      gas|       std|        four|      wagon|         fwd|          front|     105.8| 192.7| 71.4|  55.7|       2954|        ohc|            five|        136|       mpfi|3.19|   3.4|              8.5|       110|    5500|      19|         25|18920|\n",
      "|       audi|      gas|     turbo|        four|      sedan|         fwd|          front|     105.8| 192.7| 71.4|  55.9|       3086|        ohc|            five|        131|       mpfi|3.13|   3.4|              8.3|       140|    5500|      17|         20|23875|\n",
      "|       audi|      gas|     turbo|         two|  hatchback|         4wd|          front|      99.5| 178.2| 67.9|  52.0|       3053|        ohc|            five|        131|       mpfi|3.13|   3.4|              7.0|       160|    5500|      16|         22|    0|\n",
      "|        bmw|      gas|       std|         two|      sedan|         rwd|          front|     101.2| 176.8| 64.8|  54.3|       2395|        ohc|            four|        108|       mpfi| 3.5|   2.8|              8.8|       101|    5800|      23|         29|16430|\n",
      "|        bmw|      gas|       std|        four|      sedan|         rwd|          front|     101.2| 176.8| 64.8|  54.3|       2395|        ohc|            four|        108|       mpfi| 3.5|   2.8|              8.8|       101|    5800|      23|         29|16925|\n",
      "|        bmw|      gas|       std|         two|      sedan|         rwd|          front|     101.2| 176.8| 64.8|  54.3|       2710|        ohc|             six|        164|       mpfi|3.31|  3.19|              9.0|       121|    4250|      21|         28|20970|\n",
      "|        bmw|      gas|       std|        four|      sedan|         rwd|          front|     101.2| 176.8| 64.8|  54.3|       2765|        ohc|             six|        164|       mpfi|3.31|  3.19|              9.0|       121|    4250|      21|         28|21105|\n",
      "|        bmw|      gas|       std|        four|      sedan|         rwd|          front|     103.5| 189.0| 66.9|  55.7|       3055|        ohc|             six|        164|       mpfi|3.31|  3.19|              9.0|       121|    4250|      20|         25|24565|\n",
      "|        bmw|      gas|       std|        four|      sedan|         rwd|          front|     103.5| 189.0| 66.9|  55.7|       3230|        ohc|             six|        209|       mpfi|3.62|  3.39|              8.0|       182|    5400|      16|         22|30760|\n",
      "|        bmw|      gas|       std|         two|      sedan|         rwd|          front|     103.5| 193.8| 67.9|  53.7|       3380|        ohc|             six|        209|       mpfi|3.62|  3.39|              8.0|       182|    5400|      16|         22|41315|\n",
      "|        bmw|      gas|       std|        four|      sedan|         rwd|          front|     110.0| 197.0| 70.9|  56.3|       3505|        ohc|             six|        209|       mpfi|3.62|  3.39|              8.0|       182|    5400|      15|         20|36880|\n",
      "|  chevrolet|      gas|       std|         two|  hatchback|         fwd|          front|      88.4| 141.1| 60.3|  53.2|       1488|          l|           three|         61|       2bbl|2.91|  3.03|              9.5|        48|    5100|      47|         53| 5151|\n",
      "|  chevrolet|      gas|       std|         two|  hatchback|         fwd|          front|      94.5| 155.9| 63.6|  52.0|       1874|        ohc|            four|         90|       2bbl|3.03|  3.11|              9.6|        70|    5400|      38|         43| 6295|\n",
      "+-----------+---------+----------+------------+-----------+------------+---------------+----------+------+-----+------+-----------+-----------+----------------+-----------+-----------+----+------+-----------------+----------+--------+--------+-----------+-----+\n",
      "only showing top 20 rows\n",
      "\n"
     ]
    }
   ],
   "source": [
    "training.na.drop(how=\"any\").show()"
   ]
  },
  {
   "cell_type": "code",
   "execution_count": 98,
   "id": "9600188f",
   "metadata": {},
   "outputs": [],
   "source": [
    "### Handling Categorical Features\n",
    "from pyspark.ml.feature import StringIndexer"
   ]
  },
  {
   "cell_type": "code",
   "execution_count": 99,
   "id": "b896920c",
   "metadata": {},
   "outputs": [
    {
     "name": "stdout",
     "output_type": "stream",
     "text": [
      "+-----------+---------+----------+------------+-----------+------------+---------------+----------+------+-----+------+-----------+-----------+----------------+-----------+-----------+----+------+-----------------+----------+--------+--------+-----------+-----+------------+-----------------+\n",
      "|       make|fuel-type|aspiration|num-of-doors| body-style|drive-wheels|engine-location|wheel-base|length|width|height|curb-weight|engine-type|num-of-cylinders|engine-size|fuel-system|bore|stroke|compression-ratio|horsepower|peak-rpm|city-mpg|highway-mpg|price|make_indexed|fuel-type_indexed|\n",
      "+-----------+---------+----------+------------+-----------+------------+---------------+----------+------+-----+------+-----------+-----------+----------------+-----------+-----------+----+------+-----------------+----------+--------+--------+-----------+-----+------------+-----------------+\n",
      "|alfa-romero|      gas|       std|         two|convertible|         rwd|          front|      88.6| 168.8| 64.1|  48.8|       2548|       dohc|            four|        130|       mpfi|3.47|  2.68|              9.0|       111|    5000|      21|         27|13495|        17.0|              0.0|\n",
      "|alfa-romero|      gas|       std|         two|convertible|         rwd|          front|      88.6| 168.8| 64.1|  48.8|       2548|       dohc|            four|        130|       mpfi|3.47|  2.68|              9.0|       111|    5000|      21|         27|16500|        17.0|              0.0|\n",
      "|alfa-romero|      gas|       std|         two|  hatchback|         rwd|          front|      94.5| 171.2| 65.5|  52.4|       2823|       ohcv|             six|        152|       mpfi|2.68|  3.47|              9.0|       154|    5000|      19|         26|16500|        17.0|              0.0|\n",
      "|       audi|      gas|       std|        four|      sedan|         fwd|          front|      99.8| 176.6| 66.2|  54.3|       2337|        ohc|            four|        109|       mpfi|3.19|   3.4|             10.0|       102|    5500|      24|         30|13950|        12.0|              0.0|\n",
      "|       audi|      gas|       std|        four|      sedan|         4wd|          front|      99.4| 176.6| 66.4|  54.3|       2824|        ohc|            five|        136|       mpfi|3.19|   3.4|              8.0|       115|    5500|      18|         22|17450|        12.0|              0.0|\n",
      "|       audi|      gas|       std|         two|      sedan|         fwd|          front|      99.8| 177.3| 66.3|  53.1|       2507|        ohc|            five|        136|       mpfi|3.19|   3.4|              8.5|       110|    5500|      19|         25|15250|        12.0|              0.0|\n",
      "|       audi|      gas|       std|        four|      sedan|         fwd|          front|     105.8| 192.7| 71.4|  55.7|       2844|        ohc|            five|        136|       mpfi|3.19|   3.4|              8.5|       110|    5500|      19|         25|17710|        12.0|              0.0|\n",
      "|       audi|      gas|       std|        four|      wagon|         fwd|          front|     105.8| 192.7| 71.4|  55.7|       2954|        ohc|            five|        136|       mpfi|3.19|   3.4|              8.5|       110|    5500|      19|         25|18920|        12.0|              0.0|\n",
      "|       audi|      gas|     turbo|        four|      sedan|         fwd|          front|     105.8| 192.7| 71.4|  55.9|       3086|        ohc|            five|        131|       mpfi|3.13|   3.4|              8.3|       140|    5500|      17|         20|23875|        12.0|              0.0|\n",
      "|       audi|      gas|     turbo|         two|  hatchback|         4wd|          front|      99.5| 178.2| 67.9|  52.0|       3053|        ohc|            five|        131|       mpfi|3.13|   3.4|              7.0|       160|    5500|      16|         22|    0|        12.0|              0.0|\n",
      "|        bmw|      gas|       std|         two|      sedan|         rwd|          front|     101.2| 176.8| 64.8|  54.3|       2395|        ohc|            four|        108|       mpfi| 3.5|   2.8|              8.8|       101|    5800|      23|         29|16430|        10.0|              0.0|\n",
      "|        bmw|      gas|       std|        four|      sedan|         rwd|          front|     101.2| 176.8| 64.8|  54.3|       2395|        ohc|            four|        108|       mpfi| 3.5|   2.8|              8.8|       101|    5800|      23|         29|16925|        10.0|              0.0|\n",
      "|        bmw|      gas|       std|         two|      sedan|         rwd|          front|     101.2| 176.8| 64.8|  54.3|       2710|        ohc|             six|        164|       mpfi|3.31|  3.19|              9.0|       121|    4250|      21|         28|20970|        10.0|              0.0|\n",
      "|        bmw|      gas|       std|        four|      sedan|         rwd|          front|     101.2| 176.8| 64.8|  54.3|       2765|        ohc|             six|        164|       mpfi|3.31|  3.19|              9.0|       121|    4250|      21|         28|21105|        10.0|              0.0|\n",
      "|        bmw|      gas|       std|        four|      sedan|         rwd|          front|     103.5| 189.0| 66.9|  55.7|       3055|        ohc|             six|        164|       mpfi|3.31|  3.19|              9.0|       121|    4250|      20|         25|24565|        10.0|              0.0|\n",
      "|        bmw|      gas|       std|        four|      sedan|         rwd|          front|     103.5| 189.0| 66.9|  55.7|       3230|        ohc|             six|        209|       mpfi|3.62|  3.39|              8.0|       182|    5400|      16|         22|30760|        10.0|              0.0|\n",
      "|        bmw|      gas|       std|         two|      sedan|         rwd|          front|     103.5| 193.8| 67.9|  53.7|       3380|        ohc|             six|        209|       mpfi|3.62|  3.39|              8.0|       182|    5400|      16|         22|41315|        10.0|              0.0|\n",
      "|        bmw|      gas|       std|        four|      sedan|         rwd|          front|     110.0| 197.0| 70.9|  56.3|       3505|        ohc|             six|        209|       mpfi|3.62|  3.39|              8.0|       182|    5400|      15|         20|36880|        10.0|              0.0|\n",
      "|  chevrolet|      gas|       std|         two|  hatchback|         fwd|          front|      88.4| 141.1| 60.3|  53.2|       1488|          l|           three|         61|       2bbl|2.91|  3.03|              9.5|        48|    5100|      47|         53| 5151|        18.0|              0.0|\n",
      "|  chevrolet|      gas|       std|         two|  hatchback|         fwd|          front|      94.5| 155.9| 63.6|  52.0|       1874|        ohc|            four|         90|       2bbl|3.03|  3.11|              9.6|        70|    5400|      38|         43| 6295|        18.0|              0.0|\n",
      "+-----------+---------+----------+------------+-----------+------------+---------------+----------+------+-----+------+-----------+-----------+----------------+-----------+-----------+----+------+-----------------+----------+--------+--------+-----------+-----+------------+-----------------+\n",
      "only showing top 20 rows\n",
      "\n"
     ]
    }
   ],
   "source": [
    "indexer=StringIndexer(inputCols=[\"make\",\"fuel-type\"],outputCols=[\"make_indexed\",\"fuel-type_indexed\"])\n",
    "df=indexer.fit(training).transform(training)\n",
    "df.show()"
   ]
  },
  {
   "cell_type": "code",
   "execution_count": 100,
   "id": "f283a445",
   "metadata": {},
   "outputs": [
    {
     "data": {
      "text/plain": [
       "['make',\n",
       " 'fuel-type',\n",
       " 'aspiration',\n",
       " 'num-of-doors',\n",
       " 'body-style',\n",
       " 'drive-wheels',\n",
       " 'engine-location',\n",
       " 'wheel-base',\n",
       " 'length',\n",
       " 'width',\n",
       " 'height',\n",
       " 'curb-weight',\n",
       " 'engine-type',\n",
       " 'num-of-cylinders',\n",
       " 'engine-size',\n",
       " 'fuel-system',\n",
       " 'bore',\n",
       " 'stroke',\n",
       " 'compression-ratio',\n",
       " 'horsepower',\n",
       " 'peak-rpm',\n",
       " 'city-mpg',\n",
       " 'highway-mpg',\n",
       " 'price',\n",
       " 'make_indexed',\n",
       " 'fuel-type_indexed']"
      ]
     },
     "execution_count": 100,
     "metadata": {},
     "output_type": "execute_result"
    }
   ],
   "source": [
    "#Here e can ee to extra coloumn make_indexed and fuel_indexed a computer onl undertand numeric value e have to convert categorical to numeric\n",
    "df.columns"
   ]
  },
  {
   "cell_type": "code",
   "execution_count": 101,
   "id": "626c4441",
   "metadata": {},
   "outputs": [],
   "source": [
    "from pyspark.ml.feature import VectorAssembler\n",
    "featureassembler=VectorAssembler(inputCols=['make_indexed','fuel-type_indexed','horsepower','city-mpg','highway-mpg']\n",
    "                                 ,outputCol=\"Independent Features\")\n",
    "output=featureassembler.transform(df)"
   ]
  },
  {
   "cell_type": "code",
   "execution_count": 102,
   "id": "1433cc1c",
   "metadata": {},
   "outputs": [
    {
     "name": "stdout",
     "output_type": "stream",
     "text": [
      "+--------------------+\n",
      "|Independent Features|\n",
      "+--------------------+\n",
      "|[17.0,0.0,111.0,2...|\n",
      "|[17.0,0.0,111.0,2...|\n",
      "|[17.0,0.0,154.0,1...|\n",
      "|[12.0,0.0,102.0,2...|\n",
      "|[12.0,0.0,115.0,1...|\n",
      "|[12.0,0.0,110.0,1...|\n",
      "|[12.0,0.0,110.0,1...|\n",
      "|[12.0,0.0,110.0,1...|\n",
      "|[12.0,0.0,140.0,1...|\n",
      "|[12.0,0.0,160.0,1...|\n",
      "|[10.0,0.0,101.0,2...|\n",
      "|[10.0,0.0,101.0,2...|\n",
      "|[10.0,0.0,121.0,2...|\n",
      "|[10.0,0.0,121.0,2...|\n",
      "|[10.0,0.0,121.0,2...|\n",
      "|[10.0,0.0,182.0,1...|\n",
      "|[10.0,0.0,182.0,1...|\n",
      "|[10.0,0.0,182.0,1...|\n",
      "|[18.0,0.0,48.0,47...|\n",
      "|[18.0,0.0,70.0,38...|\n",
      "+--------------------+\n",
      "only showing top 20 rows\n",
      "\n"
     ]
    }
   ],
   "source": [
    "output.select('Independent Features').show()"
   ]
  },
  {
   "cell_type": "code",
   "execution_count": 103,
   "id": "93b7b1d3",
   "metadata": {},
   "outputs": [],
   "source": [
    "finalized_data1=output.select(\"Independent Features\",\"price\")"
   ]
  },
  {
   "cell_type": "code",
   "execution_count": 104,
   "id": "7c16828c",
   "metadata": {},
   "outputs": [
    {
     "name": "stdout",
     "output_type": "stream",
     "text": [
      "+--------------------+-----+\n",
      "|Independent Features|price|\n",
      "+--------------------+-----+\n",
      "|[17.0,0.0,111.0,2...|13495|\n",
      "|[17.0,0.0,111.0,2...|16500|\n",
      "|[17.0,0.0,154.0,1...|16500|\n",
      "|[12.0,0.0,102.0,2...|13950|\n",
      "|[12.0,0.0,115.0,1...|17450|\n",
      "|[12.0,0.0,110.0,1...|15250|\n",
      "|[12.0,0.0,110.0,1...|17710|\n",
      "|[12.0,0.0,110.0,1...|18920|\n",
      "|[12.0,0.0,140.0,1...|23875|\n",
      "|[12.0,0.0,160.0,1...|    0|\n",
      "|[10.0,0.0,101.0,2...|16430|\n",
      "|[10.0,0.0,101.0,2...|16925|\n",
      "|[10.0,0.0,121.0,2...|20970|\n",
      "|[10.0,0.0,121.0,2...|21105|\n",
      "|[10.0,0.0,121.0,2...|24565|\n",
      "|[10.0,0.0,182.0,1...|30760|\n",
      "|[10.0,0.0,182.0,1...|41315|\n",
      "|[10.0,0.0,182.0,1...|36880|\n",
      "|[18.0,0.0,48.0,47...| 5151|\n",
      "|[18.0,0.0,70.0,38...| 6295|\n",
      "+--------------------+-----+\n",
      "only showing top 20 rows\n",
      "\n"
     ]
    }
   ],
   "source": [
    "finalized_data1.show()"
   ]
  },
  {
   "cell_type": "code",
   "execution_count": 105,
   "id": "1d8a6347",
   "metadata": {},
   "outputs": [],
   "source": [
    "##train test split\n",
    "train_data,test_data=finalized_data1.randomSplit([0.90,0.10],seed=44)"
   ]
  },
  {
   "cell_type": "code",
   "execution_count": 106,
   "id": "e2caa992",
   "metadata": {},
   "outputs": [],
   "source": [
    "from pyspark.ml.regression import LinearRegression\n"
   ]
  },
  {
   "cell_type": "code",
   "execution_count": 107,
   "id": "69792333",
   "metadata": {},
   "outputs": [],
   "source": [
    "#LinearRegression\n",
    "regressor1=LinearRegression(featuresCol='Independent Features', labelCol='price')\n",
    "regressor1=regressor1.fit(train_data)"
   ]
  },
  {
   "cell_type": "code",
   "execution_count": 108,
   "id": "afa99870",
   "metadata": {},
   "outputs": [
    {
     "data": {
      "text/plain": [
       "DenseVector([250.5539, 6919.4862, 68.779, 45.2359, -502.9331])"
      ]
     },
     "execution_count": 108,
     "metadata": {},
     "output_type": "execute_result"
    }
   ],
   "source": [
    "### Coefficients\n",
    "regressor1.coefficients"
   ]
  },
  {
   "cell_type": "code",
   "execution_count": 109,
   "id": "9c7ad07e",
   "metadata": {},
   "outputs": [
    {
     "data": {
      "text/plain": [
       "17763.34396701478"
      ]
     },
     "execution_count": 109,
     "metadata": {},
     "output_type": "execute_result"
    }
   ],
   "source": [
    "### Intercepts\n",
    "regressor1.intercept"
   ]
  },
  {
   "cell_type": "code",
   "execution_count": 110,
   "id": "95a10f20",
   "metadata": {},
   "outputs": [],
   "source": [
    "### Prediction\n",
    "pred_results1=regressor1.evaluate(test_data)"
   ]
  },
  {
   "cell_type": "code",
   "execution_count": 111,
   "id": "9054b357",
   "metadata": {},
   "outputs": [
    {
     "name": "stdout",
     "output_type": "stream",
     "text": [
      "+--------------------+-----+------------------+\n",
      "|Independent Features|price|        prediction|\n",
      "+--------------------+-----+------------------+\n",
      "|[0.0,0.0,70.0,29....| 8238| 6789.988225588417|\n",
      "|[0.0,0.0,70.0,30....| 6938|  5326.42480325661|\n",
      "|[0.0,0.0,70.0,30....| 7198|  5326.42480325661|\n",
      "|[0.0,0.0,161.0,20...|16558|17671.082228469648|\n",
      "|[1.0,0.0,69.0,31....| 6649|  5553.43566903644|\n",
      "|[1.0,0.0,69.0,31....| 6849|  5553.43566903644|\n",
      "|[1.0,0.0,152.0,17...|14399|18172.783779459285|\n",
      "|[3.0,0.0,86.0,27....| 8845|  9054.57463636191|\n",
      "|[3.0,0.0,86.0,27....| 9095|  9054.57463636191|\n",
      "|[4.0,0.0,68.0,31....| 6189| 5733.385233737166|\n",
      "|[4.0,0.0,116.0,23...| 9279|12696.353209061786|\n",
      "|[5.0,0.0,82.0,28....| 7775|  9325.80247719748|\n",
      "|[5.0,0.0,82.0,32....| 7126| 7495.013780294919|\n",
      "|[5.0,0.0,94.0,25....|10198|11021.308521201194|\n",
      "|[6.0,0.0,85.0,27....| 7975| 9234.524201062635|\n",
      "|[10.0,0.0,121.0,2...|24565|16922.529150490744|\n",
      "|[11.0,0.0,184.0,1...|40960|25761.140592648888|\n",
      "|[11.0,0.0,184.0,1...|45400|25761.140592648888|\n",
      "|[16.0,0.0,78.0,24...| 6785| 13637.56804271456|\n",
      "|[16.0,0.0,90.0,24...|11048|14462.915688094436|\n",
      "+--------------------+-----+------------------+\n",
      "\n"
     ]
    }
   ],
   "source": [
    "pred_results1.predictions.show()"
   ]
  },
  {
   "cell_type": "code",
   "execution_count": 112,
   "id": "8cb58d7c",
   "metadata": {},
   "outputs": [
    {
     "data": {
      "text/plain": [
       "(0.6736656159424528, 3654.122359392787, 38850475.82480145)"
      ]
     },
     "execution_count": 112,
     "metadata": {},
     "output_type": "execute_result"
    }
   ],
   "source": [
    "### PErformance Metrics\n",
    "pred_results1.r2,pred_results1.meanAbsoluteError,pred_results1.meanSquaredError"
   ]
  },
  {
   "cell_type": "code",
   "execution_count": 113,
   "id": "e5f61e04",
   "metadata": {},
   "outputs": [],
   "source": [
    "train_data,test_data=finalized_data1.randomSplit([0.90,0.10],seed=44)"
   ]
  },
  {
   "cell_type": "code",
   "execution_count": 114,
   "id": "87dc585a",
   "metadata": {},
   "outputs": [],
   "source": [
    "from pyspark.ml.classification import LogisticRegression"
   ]
  },
  {
   "cell_type": "code",
   "execution_count": 115,
   "id": "7644e7f4",
   "metadata": {},
   "outputs": [],
   "source": [
    "##logitic reg.\n",
    "\n",
    "lr=LogisticRegression(featuresCol='Independent Features', labelCol='price')\n",
    "lr=lr.fit(train_data)"
   ]
  },
  {
   "cell_type": "code",
   "execution_count": 116,
   "id": "44265c4e",
   "metadata": {},
   "outputs": [],
   "source": [
    "lr_summary=lr.summary"
   ]
  },
  {
   "cell_type": "code",
   "execution_count": 117,
   "id": "e1b2033e",
   "metadata": {},
   "outputs": [
    {
     "name": "stdout",
     "output_type": "stream",
     "text": [
      "+--------------------+-------+--------------------+--------------------+----------+\n",
      "|Independent Features|  price|       rawPrediction|         probability|prediction|\n",
      "+--------------------+-------+--------------------+--------------------+----------+\n",
      "|[0.0,0.0,62.0,27....| 7898.0|[768.340249384914...|[6.07021641951916...|    7898.0|\n",
      "|[0.0,0.0,62.0,27....| 8778.0|[768.340249384914...|[6.07021641951916...|    7898.0|\n",
      "|[0.0,0.0,62.0,31....| 6918.0|[883.403860540484...|[1.81393809666119...|    6918.0|\n",
      "|[0.0,0.0,62.0,31....| 6338.0|[893.012608912779...|[5.16531481492423...|    6488.0|\n",
      "|[0.0,0.0,62.0,31....| 6488.0|[893.012608912779...|[5.16531481492423...|    6488.0|\n",
      "|[0.0,0.0,62.0,35....| 5348.0|[969.641226579173...|[4.51864822045330...|    5348.0|\n",
      "|[0.0,0.0,70.0,28....| 8358.0|[824.100651613463...|[4.27101675877146...|    9258.0|\n",
      "|[0.0,0.0,70.0,28....| 9258.0|[824.100651613463...|[4.27101675877146...|    9258.0|\n",
      "|[0.0,0.0,70.0,29....| 8058.0|[840.855618936988...|[1.94111452793293...|    8058.0|\n",
      "|[0.0,0.0,70.0,38....| 7738.0|[1116.56405368853...|[8.25281347677595...|    7738.0|\n",
      "|[0.0,0.0,92.0,27....| 9988.0|[842.545017486550...|[1.34269834168045...|    9988.0|\n",
      "|[0.0,0.0,92.0,27....|10898.0|[842.545017486550...|[1.34269834168045...|    9988.0|\n",
      "|[0.0,0.0,92.0,27....|11248.0|[842.545017486550...|[1.34269834168045...|    9988.0|\n",
      "|[0.0,0.0,92.0,29....| 8948.0|[895.272448878188...|[3.81492723458240...|    8948.0|\n",
      "|[0.0,0.0,112.0,26...| 9298.0|[846.433650447233...|[9.94272699223491...|    9298.0|\n",
      "|[0.0,0.0,112.0,26...| 9538.0|[846.433650447233...|[9.94272699223491...|    9298.0|\n",
      "|[0.0,0.0,116.0,24...| 8449.0|[832.426433252695...|[4.19885769755976...|    9989.0|\n",
      "|[0.0,0.0,116.0,24...| 9639.0|[832.426433252695...|[4.19885769755976...|    9989.0|\n",
      "|[0.0,0.0,116.0,24...| 9989.0|[832.426433252695...|[4.19885769755976...|    9989.0|\n",
      "|[0.0,0.0,116.0,24...|11199.0|[832.426433252695...|[4.19885769755976...|    9989.0|\n",
      "+--------------------+-------+--------------------+--------------------+----------+\n",
      "only showing top 20 rows\n",
      "\n"
     ]
    }
   ],
   "source": [
    "lr.summary.predictions.show()"
   ]
  },
  {
   "cell_type": "code",
   "execution_count": 118,
   "id": "297d820e",
   "metadata": {},
   "outputs": [
    {
     "name": "stdout",
     "output_type": "stream",
     "text": [
      "+-------+------------------+------------------+\n",
      "|summary|             price|        prediction|\n",
      "+-------+------------------+------------------+\n",
      "|  count|               185|               185|\n",
      "|   mean|12932.778378378378|12768.632432432432|\n",
      "| stddev| 7708.593306905551| 7436.956793098954|\n",
      "|    min|               0.0|               0.0|\n",
      "|    max|           41315.0|           36880.0|\n",
      "+-------+------------------+------------------+\n",
      "\n"
     ]
    }
   ],
   "source": [
    "lr.summary.predictions.describe().show()"
   ]
  },
  {
   "cell_type": "code",
   "execution_count": 120,
   "id": "3371c94b",
   "metadata": {},
   "outputs": [],
   "source": [
    "from pyspark.ml.evaluation import BinaryClassificationEvaluator"
   ]
  },
  {
   "cell_type": "code",
   "execution_count": 121,
   "id": "11351f48",
   "metadata": {},
   "outputs": [],
   "source": [
    "pred_results=lr.evaluate(test_data)"
   ]
  },
  {
   "cell_type": "code",
   "execution_count": 122,
   "id": "8de1bec5",
   "metadata": {},
   "outputs": [
    {
     "name": "stdout",
     "output_type": "stream",
     "text": [
      "+--------------------+-----+--------------------+--------------------+----------+\n",
      "|Independent Features|price|       rawPrediction|         probability|prediction|\n",
      "+--------------------+-----+--------------------+--------------------+----------+\n",
      "|[0.0,0.0,70.0,29....| 8238|[840.855618936988...|[1.94111452793293...|    8058.0|\n",
      "|[0.0,0.0,70.0,30....| 6938|[886.436831377396...|[5.77021951042168...|    9258.0|\n",
      "|[0.0,0.0,70.0,30....| 7198|[886.436831377396...|[5.77021951042168...|    9258.0|\n",
      "|[0.0,0.0,161.0,20...|16558|[819.061225877284...|[8.63197442397520...|   15690.0|\n",
      "|[1.0,0.0,69.0,31....| 6649|[917.805671038217...|[4.77865444587037...|    7799.0|\n",
      "|[1.0,0.0,69.0,31....| 6849|[917.805671038217...|[4.77865444587037...|    7799.0|\n",
      "|[1.0,0.0,152.0,17...|14399|[744.404761338982...|[3.47530542298394...|   13499.0|\n",
      "|[3.0,0.0,86.0,27....| 8845|[888.574906060570...|[2.07084476735387...|    8495.0|\n",
      "|[3.0,0.0,86.0,27....| 9095|[888.574906060570...|[2.07084476735387...|    8495.0|\n",
      "|[4.0,0.0,68.0,31....| 6189|[976.203020962511...|[6.62890074043859...|    6669.0|\n",
      "|[4.0,0.0,116.0,23...| 9279|[884.020924358575...|[4.38140254386259...|    9279.0|\n",
      "|[5.0,0.0,82.0,28....| 7775|[929.61063351858,...|[7.86632395375058...|    7463.0|\n",
      "|[5.0,0.0,82.0,32....| 7126|[1035.06549630185...|[5.45882665016149...|    7295.0|\n",
      "|[5.0,0.0,94.0,25....|10198|[889.810142044071...|[3.56536905172230...|    9960.0|\n",
      "|[6.0,0.0,85.0,27....| 7975|[946.972255984864...|[7.78882944830932...|    8195.0|\n",
      "|[10.0,0.0,121.0,2...|24565|[900.603929520909...|[8.7185030635343E...|   12764.0|\n",
      "|[11.0,0.0,184.0,1...|40960|[886.512767849899...|[2.74384980557106...|   35056.0|\n",
      "|[11.0,0.0,184.0,1...|45400|[886.512767849899...|[2.74384980557106...|   35056.0|\n",
      "|[16.0,0.0,78.0,24...| 6785|[1002.22281233594...|[7.24428213793932...|   13495.0|\n",
      "|[16.0,0.0,90.0,24...|11048|[1031.90471957660...|[1.36731350175167...|   13495.0|\n",
      "+--------------------+-----+--------------------+--------------------+----------+\n",
      "\n"
     ]
    }
   ],
   "source": [
    "pred_results.predictions.show()"
   ]
  },
  {
   "cell_type": "code",
   "execution_count": 123,
   "id": "1b547aea",
   "metadata": {},
   "outputs": [],
   "source": [
    "eval1=BinaryClassificationEvaluator( rawPredictionCol=\"prediction\",labelCol='price')"
   ]
  },
  {
   "cell_type": "code",
   "execution_count": 127,
   "id": "1026b7f7",
   "metadata": {},
   "outputs": [],
   "source": [
    "auc=eval.evaluate(pred_results.predictions)"
   ]
  },
  {
   "cell_type": "code",
   "execution_count": 128,
   "id": "935953a4",
   "metadata": {},
   "outputs": [
    {
     "data": {
      "text/plain": [
       "1.0"
      ]
     },
     "execution_count": 128,
     "metadata": {},
     "output_type": "execute_result"
    }
   ],
   "source": [
    "auc"
   ]
  },
  {
   "cell_type": "code",
   "execution_count": 124,
   "id": "3c96b2e4",
   "metadata": {},
   "outputs": [],
   "source": []
  },
  {
   "cell_type": "code",
   "execution_count": 125,
   "id": "2afbef1e",
   "metadata": {},
   "outputs": [
    {
     "data": {
      "text/plain": [
       "1.0"
      ]
     },
     "execution_count": 125,
     "metadata": {},
     "output_type": "execute_result"
    }
   ],
   "source": []
  },
  {
   "cell_type": "code",
   "execution_count": 61,
   "id": "4d51f190",
   "metadata": {},
   "outputs": [],
   "source": []
  },
  {
   "cell_type": "code",
   "execution_count": 86,
   "id": "88be956f",
   "metadata": {},
   "outputs": [],
   "source": [
    "dtc = DecisionTreeClassifier(featuresCol='Independent Features', labelCol='price')\n",
    "\n"
   ]
  },
  {
   "cell_type": "code",
   "execution_count": 87,
   "id": "588884df",
   "metadata": {},
   "outputs": [
    {
     "ename": "IllegalArgumentException",
     "evalue": "requirement failed: Classifier inferred 41316 from label values in column DecisionTreeClassifier_171fe5d48e91__labelCol, but this exceeded the max numClasses (100) allowed to be inferred from values.  To avoid this error for labels with > 100 classes, specify numClasses explicitly in the metadata; this can be done by applying StringIndexer to the label column.",
     "output_type": "error",
     "traceback": [
      "\u001b[1;31m---------------------------------------------------------------------------\u001b[0m",
      "\u001b[1;31mIllegalArgumentException\u001b[0m                  Traceback (most recent call last)",
      "\u001b[1;32m<ipython-input-87-5a94520c423c>\u001b[0m in \u001b[0;36m<module>\u001b[1;34m\u001b[0m\n\u001b[1;32m----> 1\u001b[1;33m \u001b[0mdtc\u001b[0m \u001b[1;33m=\u001b[0m \u001b[0mdtc\u001b[0m\u001b[1;33m.\u001b[0m\u001b[0mfit\u001b[0m\u001b[1;33m(\u001b[0m\u001b[0mtrain_data\u001b[0m\u001b[1;33m,\u001b[0m\u001b[0mparams\u001b[0m\u001b[1;33m=\u001b[0m\u001b[1;32mNone\u001b[0m\u001b[1;33m)\u001b[0m\u001b[1;33m\u001b[0m\u001b[1;33m\u001b[0m\u001b[0m\n\u001b[0m",
      "\u001b[1;32m~\\anaconda3\\lib\\site-packages\\pyspark\\ml\\base.py\u001b[0m in \u001b[0;36mfit\u001b[1;34m(self, dataset, params)\u001b[0m\n\u001b[0;32m    159\u001b[0m                 \u001b[1;32mreturn\u001b[0m \u001b[0mself\u001b[0m\u001b[1;33m.\u001b[0m\u001b[0mcopy\u001b[0m\u001b[1;33m(\u001b[0m\u001b[0mparams\u001b[0m\u001b[1;33m)\u001b[0m\u001b[1;33m.\u001b[0m\u001b[0m_fit\u001b[0m\u001b[1;33m(\u001b[0m\u001b[0mdataset\u001b[0m\u001b[1;33m)\u001b[0m\u001b[1;33m\u001b[0m\u001b[1;33m\u001b[0m\u001b[0m\n\u001b[0;32m    160\u001b[0m             \u001b[1;32melse\u001b[0m\u001b[1;33m:\u001b[0m\u001b[1;33m\u001b[0m\u001b[1;33m\u001b[0m\u001b[0m\n\u001b[1;32m--> 161\u001b[1;33m                 \u001b[1;32mreturn\u001b[0m \u001b[0mself\u001b[0m\u001b[1;33m.\u001b[0m\u001b[0m_fit\u001b[0m\u001b[1;33m(\u001b[0m\u001b[0mdataset\u001b[0m\u001b[1;33m)\u001b[0m\u001b[1;33m\u001b[0m\u001b[1;33m\u001b[0m\u001b[0m\n\u001b[0m\u001b[0;32m    162\u001b[0m         \u001b[1;32melse\u001b[0m\u001b[1;33m:\u001b[0m\u001b[1;33m\u001b[0m\u001b[1;33m\u001b[0m\u001b[0m\n\u001b[0;32m    163\u001b[0m             raise ValueError(\"Params must be either a param map or a list/tuple of param maps, \"\n",
      "\u001b[1;32m~\\anaconda3\\lib\\site-packages\\pyspark\\ml\\wrapper.py\u001b[0m in \u001b[0;36m_fit\u001b[1;34m(self, dataset)\u001b[0m\n\u001b[0;32m    333\u001b[0m \u001b[1;33m\u001b[0m\u001b[0m\n\u001b[0;32m    334\u001b[0m     \u001b[1;32mdef\u001b[0m \u001b[0m_fit\u001b[0m\u001b[1;33m(\u001b[0m\u001b[0mself\u001b[0m\u001b[1;33m,\u001b[0m \u001b[0mdataset\u001b[0m\u001b[1;33m)\u001b[0m\u001b[1;33m:\u001b[0m\u001b[1;33m\u001b[0m\u001b[1;33m\u001b[0m\u001b[0m\n\u001b[1;32m--> 335\u001b[1;33m         \u001b[0mjava_model\u001b[0m \u001b[1;33m=\u001b[0m \u001b[0mself\u001b[0m\u001b[1;33m.\u001b[0m\u001b[0m_fit_java\u001b[0m\u001b[1;33m(\u001b[0m\u001b[0mdataset\u001b[0m\u001b[1;33m)\u001b[0m\u001b[1;33m\u001b[0m\u001b[1;33m\u001b[0m\u001b[0m\n\u001b[0m\u001b[0;32m    336\u001b[0m         \u001b[0mmodel\u001b[0m \u001b[1;33m=\u001b[0m \u001b[0mself\u001b[0m\u001b[1;33m.\u001b[0m\u001b[0m_create_model\u001b[0m\u001b[1;33m(\u001b[0m\u001b[0mjava_model\u001b[0m\u001b[1;33m)\u001b[0m\u001b[1;33m\u001b[0m\u001b[1;33m\u001b[0m\u001b[0m\n\u001b[0;32m    337\u001b[0m         \u001b[1;32mreturn\u001b[0m \u001b[0mself\u001b[0m\u001b[1;33m.\u001b[0m\u001b[0m_copyValues\u001b[0m\u001b[1;33m(\u001b[0m\u001b[0mmodel\u001b[0m\u001b[1;33m)\u001b[0m\u001b[1;33m\u001b[0m\u001b[1;33m\u001b[0m\u001b[0m\n",
      "\u001b[1;32m~\\anaconda3\\lib\\site-packages\\pyspark\\ml\\wrapper.py\u001b[0m in \u001b[0;36m_fit_java\u001b[1;34m(self, dataset)\u001b[0m\n\u001b[0;32m    330\u001b[0m         \"\"\"\n\u001b[0;32m    331\u001b[0m         \u001b[0mself\u001b[0m\u001b[1;33m.\u001b[0m\u001b[0m_transfer_params_to_java\u001b[0m\u001b[1;33m(\u001b[0m\u001b[1;33m)\u001b[0m\u001b[1;33m\u001b[0m\u001b[1;33m\u001b[0m\u001b[0m\n\u001b[1;32m--> 332\u001b[1;33m         \u001b[1;32mreturn\u001b[0m \u001b[0mself\u001b[0m\u001b[1;33m.\u001b[0m\u001b[0m_java_obj\u001b[0m\u001b[1;33m.\u001b[0m\u001b[0mfit\u001b[0m\u001b[1;33m(\u001b[0m\u001b[0mdataset\u001b[0m\u001b[1;33m.\u001b[0m\u001b[0m_jdf\u001b[0m\u001b[1;33m)\u001b[0m\u001b[1;33m\u001b[0m\u001b[1;33m\u001b[0m\u001b[0m\n\u001b[0m\u001b[0;32m    333\u001b[0m \u001b[1;33m\u001b[0m\u001b[0m\n\u001b[0;32m    334\u001b[0m     \u001b[1;32mdef\u001b[0m \u001b[0m_fit\u001b[0m\u001b[1;33m(\u001b[0m\u001b[0mself\u001b[0m\u001b[1;33m,\u001b[0m \u001b[0mdataset\u001b[0m\u001b[1;33m)\u001b[0m\u001b[1;33m:\u001b[0m\u001b[1;33m\u001b[0m\u001b[1;33m\u001b[0m\u001b[0m\n",
      "\u001b[1;32m~\\anaconda3\\lib\\site-packages\\py4j\\java_gateway.py\u001b[0m in \u001b[0;36m__call__\u001b[1;34m(self, *args)\u001b[0m\n\u001b[0;32m   1302\u001b[0m \u001b[1;33m\u001b[0m\u001b[0m\n\u001b[0;32m   1303\u001b[0m         \u001b[0manswer\u001b[0m \u001b[1;33m=\u001b[0m \u001b[0mself\u001b[0m\u001b[1;33m.\u001b[0m\u001b[0mgateway_client\u001b[0m\u001b[1;33m.\u001b[0m\u001b[0msend_command\u001b[0m\u001b[1;33m(\u001b[0m\u001b[0mcommand\u001b[0m\u001b[1;33m)\u001b[0m\u001b[1;33m\u001b[0m\u001b[1;33m\u001b[0m\u001b[0m\n\u001b[1;32m-> 1304\u001b[1;33m         return_value = get_return_value(\n\u001b[0m\u001b[0;32m   1305\u001b[0m             answer, self.gateway_client, self.target_id, self.name)\n\u001b[0;32m   1306\u001b[0m \u001b[1;33m\u001b[0m\u001b[0m\n",
      "\u001b[1;32m~\\anaconda3\\lib\\site-packages\\pyspark\\sql\\utils.py\u001b[0m in \u001b[0;36mdeco\u001b[1;34m(*a, **kw)\u001b[0m\n\u001b[0;32m    115\u001b[0m                 \u001b[1;31m# Hide where the exception came from that shows a non-Pythonic\u001b[0m\u001b[1;33m\u001b[0m\u001b[1;33m\u001b[0m\u001b[1;33m\u001b[0m\u001b[0m\n\u001b[0;32m    116\u001b[0m                 \u001b[1;31m# JVM exception message.\u001b[0m\u001b[1;33m\u001b[0m\u001b[1;33m\u001b[0m\u001b[1;33m\u001b[0m\u001b[0m\n\u001b[1;32m--> 117\u001b[1;33m                 \u001b[1;32mraise\u001b[0m \u001b[0mconverted\u001b[0m \u001b[1;32mfrom\u001b[0m \u001b[1;32mNone\u001b[0m\u001b[1;33m\u001b[0m\u001b[1;33m\u001b[0m\u001b[0m\n\u001b[0m\u001b[0;32m    118\u001b[0m             \u001b[1;32melse\u001b[0m\u001b[1;33m:\u001b[0m\u001b[1;33m\u001b[0m\u001b[1;33m\u001b[0m\u001b[0m\n\u001b[0;32m    119\u001b[0m                 \u001b[1;32mraise\u001b[0m\u001b[1;33m\u001b[0m\u001b[1;33m\u001b[0m\u001b[0m\n",
      "\u001b[1;31mIllegalArgumentException\u001b[0m: requirement failed: Classifier inferred 41316 from label values in column DecisionTreeClassifier_171fe5d48e91__labelCol, but this exceeded the max numClasses (100) allowed to be inferred from values.  To avoid this error for labels with > 100 classes, specify numClasses explicitly in the metadata; this can be done by applying StringIndexer to the label column."
     ]
    }
   ],
   "source": [
    "dtc = dtc.fit(train_data,params=None)"
   ]
  },
  {
   "cell_type": "code",
   "execution_count": 79,
   "id": "30269ccd",
   "metadata": {},
   "outputs": [
    {
     "ename": "AttributeError",
     "evalue": "'LogisticRegressionModel' object has no attribute 'select'",
     "output_type": "error",
     "traceback": [
      "\u001b[1;31m---------------------------------------------------------------------------\u001b[0m",
      "\u001b[1;31mAttributeError\u001b[0m                            Traceback (most recent call last)",
      "\u001b[1;32m<ipython-input-79-6e5844557840>\u001b[0m in \u001b[0;36m<module>\u001b[1;34m\u001b[0m\n\u001b[1;32m----> 1\u001b[1;33m \u001b[0my_pred\u001b[0m\u001b[1;33m=\u001b[0m\u001b[0mlr\u001b[0m\u001b[1;33m.\u001b[0m\u001b[0mselect\u001b[0m\u001b[1;33m(\u001b[0m\u001b[1;34m\"prediction\"\u001b[0m\u001b[1;33m)\u001b[0m\u001b[1;33m.\u001b[0m\u001b[0mcollect\u001b[0m\u001b[1;33m(\u001b[0m\u001b[1;33m)\u001b[0m\u001b[1;33m\u001b[0m\u001b[1;33m\u001b[0m\u001b[0m\n\u001b[0m\u001b[0;32m      2\u001b[0m \u001b[0my_orig\u001b[0m\u001b[1;33m=\u001b[0m\u001b[0mlr\u001b[0m\u001b[1;33m.\u001b[0m\u001b[0mselect\u001b[0m\u001b[1;33m(\u001b[0m\u001b[1;34m\"price\"\u001b[0m\u001b[1;33m)\u001b[0m\u001b[1;33m.\u001b[0m\u001b[0mcollect\u001b[0m\u001b[1;33m(\u001b[0m\u001b[1;33m)\u001b[0m\u001b[1;33m\u001b[0m\u001b[1;33m\u001b[0m\u001b[0m\n\u001b[0;32m      3\u001b[0m \u001b[1;33m\u001b[0m\u001b[0m\n\u001b[0;32m      4\u001b[0m \u001b[0mcm\u001b[0m \u001b[1;33m=\u001b[0m \u001b[0mconfusion_matrix\u001b[0m\u001b[1;33m(\u001b[0m\u001b[0my_orig\u001b[0m\u001b[1;33m,\u001b[0m \u001b[0my_pred\u001b[0m\u001b[1;33m)\u001b[0m\u001b[1;33m\u001b[0m\u001b[1;33m\u001b[0m\u001b[0m\n\u001b[0;32m      5\u001b[0m \u001b[0mprint\u001b[0m\u001b[1;33m(\u001b[0m\u001b[1;34m\"Confusion Matrix:\"\u001b[0m\u001b[1;33m)\u001b[0m\u001b[1;33m\u001b[0m\u001b[1;33m\u001b[0m\u001b[0m\n",
      "\u001b[1;31mAttributeError\u001b[0m: 'LogisticRegressionModel' object has no attribute 'select'"
     ]
    }
   ],
   "source": [
    "\n"
   ]
  },
  {
   "cell_type": "code",
   "execution_count": null,
   "id": "0bd3c640",
   "metadata": {},
   "outputs": [],
   "source": []
  }
 ],
 "metadata": {
  "kernelspec": {
   "display_name": "Python 3",
   "language": "python",
   "name": "python3"
  },
  "language_info": {
   "codemirror_mode": {
    "name": "ipython",
    "version": 3
   },
   "file_extension": ".py",
   "mimetype": "text/x-python",
   "name": "python",
   "nbconvert_exporter": "python",
   "pygments_lexer": "ipython3",
   "version": "3.8.8"
  }
 },
 "nbformat": 4,
 "nbformat_minor": 5
}
